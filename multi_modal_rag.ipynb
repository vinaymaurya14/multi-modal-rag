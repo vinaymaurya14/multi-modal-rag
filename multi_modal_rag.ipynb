{
 "cells": [
  {
   "cell_type": "markdown",
   "metadata": {
    "id": "fY_1YP5uD39K"
   },
   "source": []
  },
  {
   "cell_type": "code",
   "execution_count": null,
   "metadata": {
    "colab": {
     "base_uri": "https://localhost:8080/"
    },
    "id": "LZc1e-UVDvpk",
    "outputId": "4d31504c-a720-4fd2-8b20-c3166182d58d"
   },
   "outputs": [],
   "source": [
    "!pip install -U -q byaldi pdf2image qwen-vl-utils transformers\n",
    "# Tested with byaldi==0.0.4, pdf2image==1.17.0, qwen-vl-utils==0.0.8, transformers==4.45.0"
   ]
  },
  {
   "cell_type": "code",
   "execution_count": null,
   "metadata": {
    "colab": {
     "base_uri": "https://localhost:8080/"
    },
    "id": "yK-zI2tvD-W8",
    "outputId": "7e063536-1bc1-4586-b4f6-3c5a6d57ada6"
   },
   "outputs": [],
   "source": [
    "!sudo apt-get install -y poppler-utils"
   ]
  },
  {
   "cell_type": "code",
   "execution_count": null,
   "metadata": {
    "colab": {
     "base_uri": "https://localhost:8080/"
    },
    "id": "G5v1ncraE2B5",
    "outputId": "099d8732-acab-4419-977e-c5b8b9ff7153"
   },
   "outputs": [],
   "source": [
    "import os\n",
    "import shutil\n",
    "\n",
    "# Map of IKEA item names to their source file names (already in Drive)\n",
    "pdfs = {\n",
    "    \"ECCO\": \"ECCO Guidelines on Extraintestinal IBD.pdf\"\n",
    "}\n",
    "\n",
    "# Replace with your actual drive mount point or folder path\n",
    "drive_source_dir = \"/content/drive/MyDrive/IKEA_PDFs\"\n",
    "output_dir = \"data\"\n",
    "os.makedirs(output_dir, exist_ok=True)\n",
    "\n",
    "# Copy each file from Drive to the local output directory\n",
    "for name, filename in pdfs.items():\n",
    "    source_path = os.path.join(drive_source_dir, filename)\n",
    "    dest_path = os.path.join(output_dir, f\"{name}.pdf\")\n",
    "\n",
    "    if os.path.exists(source_path):\n",
    "        shutil.copy(source_path, dest_path)\n",
    "        print(f\"Copied {name} from {source_path} to {dest_path}\")\n",
    "    else:\n",
    "        print(f\"❌ File not found for {name}: {source_path}\")\n",
    "\n",
    "print(\"Final files in output folder:\", os.listdir(output_dir))"
   ]
  },
  {
   "cell_type": "code",
   "execution_count": null,
   "metadata": {
    "id": "Mu8umqrBGA3i"
   },
   "outputs": [],
   "source": [
    "import os\n",
    "from pdf2image import convert_from_path\n",
    "\n",
    "\n",
    "def convert_pdfs_to_images(pdf_folder):\n",
    "    pdf_files = [f for f in os.listdir(pdf_folder) if f.endswith(\".pdf\")]\n",
    "    all_images = {}\n",
    "\n",
    "    for doc_id, pdf_file in enumerate(pdf_files):\n",
    "        pdf_path = os.path.join(pdf_folder, pdf_file)\n",
    "        images = convert_from_path(pdf_path)\n",
    "        all_images[doc_id] = images\n",
    "\n",
    "    return all_images\n",
    "\n",
    "\n",
    "all_images = convert_pdfs_to_images(\"/content/data/\")"
   ]
  },
  {
   "cell_type": "code",
   "execution_count": null,
   "metadata": {
    "colab": {
     "base_uri": "https://localhost:8080/",
     "height": 146
    },
    "id": "J0f8u-VQGDyH",
    "outputId": "1268543c-9782-4141-f7ff-e40778562adf"
   },
   "outputs": [],
   "source": [
    "import matplotlib.pyplot as plt\n",
    "\n",
    "fig, axes = plt.subplots(1, 8, figsize=(15, 10))\n",
    "\n",
    "for i, ax in enumerate(axes.flat):\n",
    "    img = all_images[0][i]\n",
    "    ax.imshow(img)\n",
    "    ax.axis(\"off\")\n",
    "\n",
    "plt.tight_layout()\n",
    "plt.show()"
   ]
  },
  {
   "cell_type": "code",
   "execution_count": null,
   "metadata": {
    "colab": {
     "base_uri": "https://localhost:8080/"
    },
    "id": "bBcsDGCpMWZu",
    "outputId": "2b941563-0d6b-44a0-de82-9aa455d361c6"
   },
   "outputs": [],
   "source": [
    "import torch\n",
    "print(\"PyTorch CUDA available:\", torch.cuda.is_available())\n",
    "print(\"Device name:\", torch.cuda.get_device_name(0) if torch.cuda.is_available() else \"CPU\")"
   ]
  },
  {
   "cell_type": "code",
   "execution_count": null,
   "metadata": {
    "colab": {
     "base_uri": "https://localhost:8080/",
     "height": 137,
     "referenced_widgets": [
      "6aab5b1e40a64b6ca486ac990deb4583",
      "d2ac79dd686043f09e0fbb512258f2c8",
      "df43be5d191e44a6bc6a226051dbd085",
      "79a3320bf51e4df09c93c8617822415c",
      "4149443ad0d74cf4baf6713d142d396e",
      "33e2bd02c13d498583d1db10dbf9e6ac",
      "5f177caf35644d8ba6df79202737d42b",
      "ccec26669bbe46d798d1de010faaafd7",
      "5be55276ac7041f3ab825e8923ad0b89",
      "03c8ee7b121c435295ef60da7c2838b4",
      "28155111ade04f88b547a3ca3ae2982f",
      "40e471ea02b14a92a6e299876cfe9752",
      "c34d0872d3634202ae64fdf56f9f0819",
      "572aefc844c4463eac1f4d8fa44f92f3",
      "b28e321372c7465c939e4c45b9f11452",
      "69cd003ca8c049e1b9324e94a64a6163",
      "318861d102634c34a2d592859c421de7",
      "4c86d0230ed94ee78ac156c0932a1980",
      "90862dccc1dd44f08923060f27a067b3",
      "e84ada95558f45d88cfdae2257c74259",
      "a845bc4ef66646758507f1eba53e2624",
      "a46d38f0d17a46b58b11bfa2c68e746b"
     ]
    },
    "id": "s-jnJutEGKVx",
    "outputId": "e8802ba9-ce5b-4385-fb4a-4e74139d944b"
   },
   "outputs": [],
   "source": [
    "from byaldi import RAGMultiModalModel\n",
    "\n",
    "docs_retrieval_model = RAGMultiModalModel.from_pretrained(\"vidore/colpali-v1.2\")"
   ]
  },
  {
   "cell_type": "code",
   "execution_count": null,
   "metadata": {
    "colab": {
     "base_uri": "https://localhost:8080/"
    },
    "id": "0KEB2IHhGP4o",
    "outputId": "31f27a60-70b3-4a3d-87af-f374b04a105b"
   },
   "outputs": [],
   "source": [
    "docs_retrieval_model.index(\n",
    "    input_path=\"data/\", index_name=\"image_index\", store_collection_with_index=False, overwrite=True\n",
    ")"
   ]
  },
  {
   "cell_type": "code",
   "execution_count": null,
   "metadata": {
    "colab": {
     "base_uri": "https://localhost:8080/"
    },
    "id": "rIiy5abfHB1k",
    "outputId": "b776d7fe-995f-43c5-abe8-bd6292988983"
   },
   "outputs": [],
   "source": [
    "text_query = \"What is the recommended VTE prophylaxis for hospitalized IBD patients?\"\n",
    "\n",
    "results = docs_retrieval_model.search(text_query, k=3)\n",
    "results"
   ]
  },
  {
   "cell_type": "code",
   "execution_count": null,
   "metadata": {
    "id": "x17nYuT0Hlj6"
   },
   "outputs": [],
   "source": [
    "def get_grouped_images(results, all_images):\n",
    "    grouped_images = []\n",
    "\n",
    "    for result in results:\n",
    "        doc_id = result[\"doc_id\"]\n",
    "        page_num = result[\"page_num\"]\n",
    "        grouped_images.append(\n",
    "            all_images[doc_id][page_num - 1]\n",
    "        )  # page_num are 1-indexed, while doc_ids are 0-indexed. Source https://github.com/AnswerDotAI/byaldi?tab=readme-ov-file#searching\n",
    "\n",
    "    return grouped_images\n",
    "\n",
    "\n",
    "grouped_images = get_grouped_images(results, all_images)"
   ]
  },
  {
   "cell_type": "code",
   "execution_count": null,
   "metadata": {
    "colab": {
     "base_uri": "https://localhost:8080/",
     "height": 361
    },
    "id": "3kL2igJ2Hpg3",
    "outputId": "8667f8a7-f5b4-40ea-82d7-16fa04db76e8"
   },
   "outputs": [],
   "source": [
    "import matplotlib.pyplot as plt\n",
    "\n",
    "fig, axes = plt.subplots(1, 3, figsize=(15, 10))\n",
    "\n",
    "for i, ax in enumerate(axes.flat):\n",
    "    img = grouped_images[i]\n",
    "    ax.imshow(img)\n",
    "    ax.axis(\"off\")\n",
    "\n",
    "plt.tight_layout()\n",
    "plt.show()"
   ]
  },
  {
   "cell_type": "code",
   "execution_count": null,
   "metadata": {
    "colab": {
     "base_uri": "https://localhost:8080/"
    },
    "id": "M-GJPUzkQmKN",
    "outputId": "8ede9d7b-2432-4074-ad0b-400e3b058d78"
   },
   "outputs": [],
   "source": [
    "!pip install -U bitsandbytes accelerate"
   ]
  },
  {
   "cell_type": "code",
   "execution_count": null,
   "metadata": {
    "colab": {
     "base_uri": "https://localhost:8080/"
    },
    "id": "mMuMdD02Q0rV",
    "outputId": "e686338c-6f61-466a-99d4-d5427e5505f3"
   },
   "outputs": [],
   "source": [
    "pip install -U bitsandbytes"
   ]
  },
  {
   "cell_type": "code",
   "execution_count": null,
   "metadata": {
    "colab": {
     "base_uri": "https://localhost:8080/",
     "height": 241,
     "referenced_widgets": [
      "0a1d42d79f3143b9981886b4e579a981",
      "279e9bdc4c6748ffad1db42bd1e321ae",
      "115f1cc4f4064d21aff1aad04a5f5633",
      "1a3a869cfb0f4c18a7d87845e82ec795",
      "a15f7a889288400f8163cddcac1fa16c",
      "e7683a41fe1e42a8a82476d7ca10f364",
      "7932dff6725b46619663a6e5e2504dd3",
      "9c9a1e6256b348959e780a64818bc197",
      "7fffc4c946e04b119f5597fbb36f276d",
      "4bc77feaa857418b90831bb8c3bcf8f9",
      "40b29dc621e94d32b0cb1e36f9e22d7f",
      "0767bb09f6b545739fb0244ba44ed690",
      "e24f5f4d10f8482093a4d27ae8a20d24",
      "d587e274893846f589aaf372f8e4943d",
      "a7e74e9923174ac38fbfdd14ec44fe0a",
      "c675c95c2c244681ba820a025ed21a6c",
      "169a6608a3b546c586a30f77ef247ecd",
      "c1a4f073e09e4090a87a6d46e69f0a1c",
      "34dc0b2d15ac4879a6c0afa07df97d50",
      "98468ad0fd1d47f6be68163b84bfff78",
      "c85a02221669463a804fafc271a12465",
      "af2843ae341d43d487b8b4610184512b",
      "699a8c673a724c45832aab792557f0ce",
      "efa3eb7862e148dd8f1744964cc48dd4",
      "33a5d1d979c0444b9785f7ed6cb1f94b",
      "eccbe7e38b2c426984efc26f397a0186",
      "5b5d1758e1c2412eba75737446f2e4be",
      "dd7489dfd95b4780971f5fe615ad347d",
      "5f8e8a7699d0447cac442f762b992e45",
      "95a9a5df44984915ba65937b5d1bd098",
      "d7c06f114bdb4751b662683b6b96ae53",
      "1b615d91313745a69f796d6e14942f90",
      "ee69bee7276f45329ec83662c0ea6a46",
      "03f1f85527524c53a4908b36e3902d13",
      "009aa432f5064d6d9931f0bb0b020600",
      "5bb22e120e77411fb7dd13873ae11b28",
      "80059e4b16fd41eb829b73821340162d",
      "f7026d8f68d544758b981c585d2b7ae6",
      "2ff074cb0b044b509cce199ba3329dd0",
      "799e88b6d9274044a1430dfac50e549d",
      "ca7704865d9c425bafe076ae9167da81",
      "c92fd1146eda4f3e8a1947d5876b539b",
      "d8159277e6b247e9ac4a7f8a3961f8e5",
      "e52d9aed44d142bdabab8348c83117a1",
      "88089c69b2614b61805174f86a75f8be",
      "716365123f284047a5b80efce83b3e95",
      "f165eccf0cd140d3ac92aa5a8b49d8dc",
      "dccf7ab7ed9743d4975a94adb2c06657",
      "70a418c6ff8d4738a7ac25bc0dec7675",
      "6ff5476afe9749f882592da1bb981509",
      "6b41dcf0b4c640cab879c2df2e3fe0bf",
      "eee34a8430b54bb39966efb63a3f2300",
      "bf9a8f94ce3d4b788b4dcb9a54ecfe3f",
      "38e6c18652f44a289be2c46f1c403820",
      "dfd6d574dd224a14aaabd336d7a4cd19",
      "13d45ca9360c43c48c4e62b672e832cb",
      "729bf922671f4288a15a70ee255dff27",
      "0cc6c1a78e484d2c8cec1d58285a517d",
      "fecee0d47fa742e9a20fa027cfa74b28",
      "b91c66593d2542df9544de4ad54e36ae",
      "45a869a8fc6f4f9691b5e08c87a89c54",
      "c21d70e96e684921b5854ef09578b564",
      "efb4574e3cd7446c84412409f3a19830",
      "87281ecc2ae548edab9d1a36e4b3f321",
      "4b9f50126a424e75bf96554dddfe534a",
      "1b2750bc6e9943e581545581ad0f0f74",
      "f7dd653594d548ab860711bbaf56e526",
      "c81ea6b1d5ed4962b13a1ee1e958d533",
      "f96a814b81d84ee7ad6e12b09946140f",
      "73a03b575c8a4ef791f879ca2da39dce",
      "bc9000b983ca4312bb30f10f95e09c9c",
      "2bc7a7e6f7d24b5abda669b56e13d86f",
      "2a2b1d80386946249a0784c9782aa3e5",
      "b177ba95abd04daab7a57ca7fc9ac047",
      "00eddda78cbf45bd888cfc1e70176837",
      "24d6dbbe597a45d8b05388223276efa5",
      "99c2be0bee6a4e8781f1b65719c07cd8"
     ]
    },
    "id": "RavjGQsQHwq3",
    "outputId": "18ac2959-d00d-4ff5-86fc-49d654c3893e"
   },
   "outputs": [],
   "source": [
    "from transformers import Qwen2VLForConditionalGeneration, Qwen2VLProcessor, BitsAndBytesConfig\n",
    "import torch\n",
    "\n",
    "quant_config = BitsAndBytesConfig(\n",
    "    load_in_4bit=True,\n",
    "    bnb_4bit_compute_dtype=torch.float16,\n",
    "    bnb_4bit_use_double_quant=True,\n",
    "    bnb_4bit_quant_type=\"nf4\"\n",
    ")\n",
    "\n",
    "model_id = \"Qwen/Qwen2-VL-7B-Instruct\"\n",
    "\n",
    "processor = Qwen2VLProcessor.from_pretrained(model_id, trust_remote_code=True)\n",
    "vl_model = Qwen2VLForConditionalGeneration.from_pretrained(\n",
    "    model_id,\n",
    "    quantization_config=quant_config,\n",
    "    device_map=\"auto\",\n",
    "    trust_remote_code=True,\n",
    ")"
   ]
  },
  {
   "cell_type": "code",
   "execution_count": null,
   "metadata": {
    "id": "xOSOsTeDWiLb"
   },
   "outputs": [],
   "source": [
    "torch.cuda.empty_cache()"
   ]
  },
  {
   "cell_type": "code",
   "execution_count": null,
   "metadata": {
    "id": "rLWJSBaMW5OW"
   },
   "outputs": [],
   "source": [
    "from qwen_vl_utils import process_vision_info"
   ]
  },
  {
   "cell_type": "code",
   "execution_count": null,
   "metadata": {
    "id": "XZZXHTSQJpAF"
   },
   "outputs": [],
   "source": [
    "min_pixels = 224 * 224\n",
    "max_pixels = 1024 * 1024\n",
    "vl_model_processor = Qwen2VLProcessor.from_pretrained(\n",
    "    \"Qwen/Qwen2-VL-7B-Instruct\", min_pixels=min_pixels, max_pixels=max_pixels\n",
    ")"
   ]
  },
  {
   "cell_type": "code",
   "execution_count": null,
   "metadata": {
    "id": "w1Wpy6PUJuaE"
   },
   "outputs": [],
   "source": [
    "chat_template = [\n",
    "    {\n",
    "        \"role\": \"system\",\n",
    "        \"content\": \"You are a Gastroenterology assistant. Answer in detail with all the possible facts available in document and accurately based only on the provided images and question.\"\n",
    "    },\n",
    "    {\n",
    "        \"role\": \"user\",\n",
    "        \"content\": [\n",
    "            {\"type\": \"image\", \"image\": grouped_images[0]},  # e.g. an endoscopy diagram or chart\n",
    "            {\"type\": \"text\", \"text\": text_query}\n",
    "        ]\n",
    "    }\n",
    "]\n"
   ]
  },
  {
   "cell_type": "code",
   "execution_count": null,
   "metadata": {
    "id": "8GdPNKPLJz50"
   },
   "outputs": [],
   "source": [
    "text = vl_model_processor.apply_chat_template(chat_template, tokenize=False, add_generation_prompt=True)"
   ]
  },
  {
   "cell_type": "code",
   "execution_count": null,
   "metadata": {
    "id": "i7WMC2WTJ40R"
   },
   "outputs": [],
   "source": [
    "image_inputs, _ = process_vision_info(chat_template)\n",
    "inputs = vl_model_processor(\n",
    "    text=[text],\n",
    "    images=image_inputs,\n",
    "    padding=True,\n",
    "    return_tensors=\"pt\",\n",
    ")\n",
    "inputs = inputs.to(\"cuda\")"
   ]
  },
  {
   "cell_type": "code",
   "execution_count": null,
   "metadata": {
    "id": "gmrZ8A3lJ7wv"
   },
   "outputs": [],
   "source": [
    "generated_ids = vl_model.generate(**inputs, max_new_tokens=500)"
   ]
  },
  {
   "cell_type": "code",
   "execution_count": null,
   "metadata": {
    "id": "WWZH_wbWJ-KF"
   },
   "outputs": [],
   "source": [
    "generated_ids_trimmed = [out_ids[len(in_ids) :] for in_ids, out_ids in zip(inputs.input_ids, generated_ids)]\n",
    "output_text = vl_model_processor.batch_decode(\n",
    "    generated_ids_trimmed, skip_special_tokens=True, clean_up_tokenization_spaces=False\n",
    ")"
   ]
  },
  {
   "cell_type": "code",
   "execution_count": null,
   "metadata": {
    "colab": {
     "base_uri": "https://localhost:8080/"
    },
    "id": "azgYF3JXKApB",
    "outputId": "38276964-a5ff-413a-f9f1-9fddbe8ad225"
   },
   "outputs": [],
   "source": [
    "print(output_text[0])"
   ]
  }
 ],
 "metadata": {
  "accelerator": "GPU",
  "colab": {
   "gpuType": "T4",
   "provenance": []
  },
  "kernelspec": {
   "display_name": "Python 3",
   "name": "python3"
  },
  "language_info": {
   "name": "python"
  }
 },
 "nbformat": 4,
 "nbformat_minor": 0
}
